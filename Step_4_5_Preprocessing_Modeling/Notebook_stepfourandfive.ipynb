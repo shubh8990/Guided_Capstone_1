{
 "cells": [
  {
   "cell_type": "markdown",
   "metadata": {
    "colab_type": "text",
    "id": "cf5CmXQCZyF1"
   },
   "source": [
    "# Guided Capstone Step 4. Pre-Processing and Training Data Development"
   ]
  },
  {
   "cell_type": "markdown",
   "metadata": {
    "colab_type": "text",
    "id": "b2jue2jPGJlt"
   },
   "source": [
    "**The Data Science Method**  \n",
    "\n",
    "\n",
    "1.   Problem Identification \n",
    "\n",
    "\n",
    "2.   Data Wrangling \n",
    "  \n",
    " \n",
    "3.   Exploratory Data Analysis   \n",
    "\n",
    "4.   **Pre-processing and Training Data Development**  \n",
    " * Create dummy or indicator features for categorical variables\n",
    "  * Standardize the magnitude of numeric features\n",
    "  * Split into testing and training datasets\n",
    "  * Apply scaler to the testing set\n",
    "5.   Modeling \n",
    "  * Fit Models with Training Data Set\n",
    "  * Review Model Outcomes — Iterate over additional models as needed.\n",
    "  * Identify the Final Model\n",
    "\n",
    "6.   Documentation\n",
    "  * Review the Results\n",
    "  * Present and share your findings - storytelling\n",
    "  * Finalize Code \n",
    "  * Finalize Documentation"
   ]
  },
  {
   "cell_type": "markdown",
   "metadata": {
    "colab_type": "text",
    "id": "K8xfkAqqZyF2"
   },
   "source": [
    "**<font color='teal'> Start by loading the necessary packages as we did in step 3 and printing out our current working directory just to confirm we are in the correct project directory. </font>**"
   ]
  },
  {
   "cell_type": "code",
   "execution_count": 1,
   "metadata": {
    "colab": {},
    "colab_type": "code",
    "id": "ry6WPL5eZyF3"
   },
   "outputs": [],
   "source": [
    "#load python packages\n",
    "import os\n",
    "import pandas as pd\n",
    "import numpy as np\n",
    "import matplotlib.pyplot as plt\n",
    "import seaborn as sns\n",
    "import datetime\n",
    "%matplotlib inline"
   ]
  },
  {
   "cell_type": "markdown",
   "metadata": {
    "colab_type": "text",
    "id": "630T-ogRZyF8"
   },
   "source": [
    "**<font color='teal'>  Load the csv file you created in step 3, remember it should be saved inside your data subfolder and print the first five rows.</font>**"
   ]
  },
  {
   "cell_type": "code",
   "execution_count": 2,
   "metadata": {
    "colab": {},
    "colab_type": "code",
    "id": "dMNbk0u3ZyF9",
    "tags": []
   },
   "outputs": [
    {
     "output_type": "stream",
     "name": "stdout",
     "text": "d:\\Learning\\Springboard\\GitHub\\Guided_Capstone_1\\Step_4_5_Preprocessing_Modeling\n"
    }
   ],
   "source": [
    "path = os.getcwd()\n",
    "print(path)"
   ]
  },
  {
   "cell_type": "code",
   "execution_count": 3,
   "metadata": {},
   "outputs": [
    {
     "output_type": "execute_result",
     "data": {
      "text/plain": "                            Name       state  summit_elev  vertical_drop  \\\n0               Hilltop Ski Area      Alaska         2090            294   \n1            Sunrise Park Resort     Arizona        11100           1800   \n2  Yosemite Ski & Snowboard Area  California         7800            600   \n3               Donner Ski Ranch  California         8012            750   \n4                  June Mountain  California        10090           2590   \n\n   trams  fastEight  fastSixes  fastQuads  quad  triple  ...  \\\n0      0          0          0          0     0       1  ...   \n1      0          0          0          1     2       3  ...   \n2      0          0          0          0     0       1  ...   \n3      0          0          0          0     0       1  ...   \n4      0          0          0          2     0       0  ...   \n\n   SkiableTerrain_ac  Snow Making_ac  daysOpenLastYear  yearsOpen  \\\n0               30.0       30.000000               150         36   \n1              800.0       80.000000               115         49   \n2               88.0      174.873239               110         84   \n3              505.0       60.000000               163         82   \n4             1500.0      174.873239               115         58   \n\n   averageSnowfall  AdultWeekday  AdultWeekend  projectedDaysOpen  \\\n0               69     30.000000      34.00000                152   \n1              250     74.000000      78.00000                104   \n2              300     47.000000      47.00000                107   \n3              400     75.000000      75.00000                170   \n4              250     57.916957      64.16681                128   \n\n   NightSkiing_ac  clusters  \n0              30         0  \n1              80         1  \n2               0         1  \n3               0         1  \n4               0         1  \n\n[5 rows x 26 columns]",
      "text/html": "<div>\n<style scoped>\n    .dataframe tbody tr th:only-of-type {\n        vertical-align: middle;\n    }\n\n    .dataframe tbody tr th {\n        vertical-align: top;\n    }\n\n    .dataframe thead th {\n        text-align: right;\n    }\n</style>\n<table border=\"1\" class=\"dataframe\">\n  <thead>\n    <tr style=\"text-align: right;\">\n      <th></th>\n      <th>Name</th>\n      <th>state</th>\n      <th>summit_elev</th>\n      <th>vertical_drop</th>\n      <th>trams</th>\n      <th>fastEight</th>\n      <th>fastSixes</th>\n      <th>fastQuads</th>\n      <th>quad</th>\n      <th>triple</th>\n      <th>...</th>\n      <th>SkiableTerrain_ac</th>\n      <th>Snow Making_ac</th>\n      <th>daysOpenLastYear</th>\n      <th>yearsOpen</th>\n      <th>averageSnowfall</th>\n      <th>AdultWeekday</th>\n      <th>AdultWeekend</th>\n      <th>projectedDaysOpen</th>\n      <th>NightSkiing_ac</th>\n      <th>clusters</th>\n    </tr>\n  </thead>\n  <tbody>\n    <tr>\n      <th>0</th>\n      <td>Hilltop Ski Area</td>\n      <td>Alaska</td>\n      <td>2090</td>\n      <td>294</td>\n      <td>0</td>\n      <td>0</td>\n      <td>0</td>\n      <td>0</td>\n      <td>0</td>\n      <td>1</td>\n      <td>...</td>\n      <td>30.0</td>\n      <td>30.000000</td>\n      <td>150</td>\n      <td>36</td>\n      <td>69</td>\n      <td>30.000000</td>\n      <td>34.00000</td>\n      <td>152</td>\n      <td>30</td>\n      <td>0</td>\n    </tr>\n    <tr>\n      <th>1</th>\n      <td>Sunrise Park Resort</td>\n      <td>Arizona</td>\n      <td>11100</td>\n      <td>1800</td>\n      <td>0</td>\n      <td>0</td>\n      <td>0</td>\n      <td>1</td>\n      <td>2</td>\n      <td>3</td>\n      <td>...</td>\n      <td>800.0</td>\n      <td>80.000000</td>\n      <td>115</td>\n      <td>49</td>\n      <td>250</td>\n      <td>74.000000</td>\n      <td>78.00000</td>\n      <td>104</td>\n      <td>80</td>\n      <td>1</td>\n    </tr>\n    <tr>\n      <th>2</th>\n      <td>Yosemite Ski &amp; Snowboard Area</td>\n      <td>California</td>\n      <td>7800</td>\n      <td>600</td>\n      <td>0</td>\n      <td>0</td>\n      <td>0</td>\n      <td>0</td>\n      <td>0</td>\n      <td>1</td>\n      <td>...</td>\n      <td>88.0</td>\n      <td>174.873239</td>\n      <td>110</td>\n      <td>84</td>\n      <td>300</td>\n      <td>47.000000</td>\n      <td>47.00000</td>\n      <td>107</td>\n      <td>0</td>\n      <td>1</td>\n    </tr>\n    <tr>\n      <th>3</th>\n      <td>Donner Ski Ranch</td>\n      <td>California</td>\n      <td>8012</td>\n      <td>750</td>\n      <td>0</td>\n      <td>0</td>\n      <td>0</td>\n      <td>0</td>\n      <td>0</td>\n      <td>1</td>\n      <td>...</td>\n      <td>505.0</td>\n      <td>60.000000</td>\n      <td>163</td>\n      <td>82</td>\n      <td>400</td>\n      <td>75.000000</td>\n      <td>75.00000</td>\n      <td>170</td>\n      <td>0</td>\n      <td>1</td>\n    </tr>\n    <tr>\n      <th>4</th>\n      <td>June Mountain</td>\n      <td>California</td>\n      <td>10090</td>\n      <td>2590</td>\n      <td>0</td>\n      <td>0</td>\n      <td>0</td>\n      <td>2</td>\n      <td>0</td>\n      <td>0</td>\n      <td>...</td>\n      <td>1500.0</td>\n      <td>174.873239</td>\n      <td>115</td>\n      <td>58</td>\n      <td>250</td>\n      <td>57.916957</td>\n      <td>64.16681</td>\n      <td>128</td>\n      <td>0</td>\n      <td>1</td>\n    </tr>\n  </tbody>\n</table>\n<p>5 rows × 26 columns</p>\n</div>"
     },
     "metadata": {},
     "execution_count": 3
    }
   ],
   "source": [
    "skidata = pd.read_csv('data\\step3_output.csv', index_col=0)\n",
    "skidata.reset_index(drop = True, inplace = True)\n",
    "skidata.head(5)"
   ]
  },
  {
   "cell_type": "code",
   "execution_count": 4,
   "metadata": {},
   "outputs": [],
   "source": [
    "skidata2 = skidata"
   ]
  },
  {
   "cell_type": "markdown",
   "metadata": {
    "colab_type": "text",
    "id": "zkBHf9smZyGB"
   },
   "source": [
    "## Create dummy features for categorical variables"
   ]
  },
  {
   "cell_type": "markdown",
   "metadata": {
    "colab_type": "text",
    "id": "vWKHm0NhAnrJ"
   },
   "source": [
    "**<font color='teal'> Create dummy variables for `state`. Add the dummies back to the dataframe and remove the original column for `state`. </font>**\n",
    "\n",
    "Hint: you can see an example of how to execute this in Aiden's article on preprocessing [here](https://medium.com/@aiden.dataminer/the-data-science-method-dsm-pre-processing-and-training-data-development-fd2d75182967). "
   ]
  },
  {
   "cell_type": "code",
   "execution_count": 5,
   "metadata": {
    "colab": {},
    "colab_type": "code",
    "id": "lZqWk8ltZyGZ"
   },
   "outputs": [
    {
     "output_type": "execute_result",
     "data": {
      "text/plain": "                            Name  summit_elev  vertical_drop  trams  \\\n0               Hilltop Ski Area         2090            294      0   \n1            Sunrise Park Resort        11100           1800      0   \n2  Yosemite Ski & Snowboard Area         7800            600      0   \n3               Donner Ski Ranch         8012            750      0   \n4                  June Mountain        10090           2590      0   \n\n   fastEight  fastSixes  fastQuads  quad  triple  double  ...  \\\n0          0          0          0     0       1       0  ...   \n1          0          0          1     2       3       1  ...   \n2          0          0          0     0       1       3  ...   \n3          0          0          0     0       1       5  ...   \n4          0          0          2     0       0       4  ...   \n\n   state_Rhode Island  state_South Dakota  state_Tennessee  state_Utah  \\\n0                   0                   0                0           0   \n1                   0                   0                0           0   \n2                   0                   0                0           0   \n3                   0                   0                0           0   \n4                   0                   0                0           0   \n\n   state_Vermont  state_Virginia  state_Washington  state_West Virginia  \\\n0              0               0                 0                    0   \n1              0               0                 0                    0   \n2              0               0                 0                    0   \n3              0               0                 0                    0   \n4              0               0                 0                    0   \n\n   state_Wisconsin  state_Wyoming  \n0                0              0  \n1                0              0  \n2                0              0  \n3                0              0  \n4                0              0  \n\n[5 rows x 60 columns]",
      "text/html": "<div>\n<style scoped>\n    .dataframe tbody tr th:only-of-type {\n        vertical-align: middle;\n    }\n\n    .dataframe tbody tr th {\n        vertical-align: top;\n    }\n\n    .dataframe thead th {\n        text-align: right;\n    }\n</style>\n<table border=\"1\" class=\"dataframe\">\n  <thead>\n    <tr style=\"text-align: right;\">\n      <th></th>\n      <th>Name</th>\n      <th>summit_elev</th>\n      <th>vertical_drop</th>\n      <th>trams</th>\n      <th>fastEight</th>\n      <th>fastSixes</th>\n      <th>fastQuads</th>\n      <th>quad</th>\n      <th>triple</th>\n      <th>double</th>\n      <th>...</th>\n      <th>state_Rhode Island</th>\n      <th>state_South Dakota</th>\n      <th>state_Tennessee</th>\n      <th>state_Utah</th>\n      <th>state_Vermont</th>\n      <th>state_Virginia</th>\n      <th>state_Washington</th>\n      <th>state_West Virginia</th>\n      <th>state_Wisconsin</th>\n      <th>state_Wyoming</th>\n    </tr>\n  </thead>\n  <tbody>\n    <tr>\n      <th>0</th>\n      <td>Hilltop Ski Area</td>\n      <td>2090</td>\n      <td>294</td>\n      <td>0</td>\n      <td>0</td>\n      <td>0</td>\n      <td>0</td>\n      <td>0</td>\n      <td>1</td>\n      <td>0</td>\n      <td>...</td>\n      <td>0</td>\n      <td>0</td>\n      <td>0</td>\n      <td>0</td>\n      <td>0</td>\n      <td>0</td>\n      <td>0</td>\n      <td>0</td>\n      <td>0</td>\n      <td>0</td>\n    </tr>\n    <tr>\n      <th>1</th>\n      <td>Sunrise Park Resort</td>\n      <td>11100</td>\n      <td>1800</td>\n      <td>0</td>\n      <td>0</td>\n      <td>0</td>\n      <td>1</td>\n      <td>2</td>\n      <td>3</td>\n      <td>1</td>\n      <td>...</td>\n      <td>0</td>\n      <td>0</td>\n      <td>0</td>\n      <td>0</td>\n      <td>0</td>\n      <td>0</td>\n      <td>0</td>\n      <td>0</td>\n      <td>0</td>\n      <td>0</td>\n    </tr>\n    <tr>\n      <th>2</th>\n      <td>Yosemite Ski &amp; Snowboard Area</td>\n      <td>7800</td>\n      <td>600</td>\n      <td>0</td>\n      <td>0</td>\n      <td>0</td>\n      <td>0</td>\n      <td>0</td>\n      <td>1</td>\n      <td>3</td>\n      <td>...</td>\n      <td>0</td>\n      <td>0</td>\n      <td>0</td>\n      <td>0</td>\n      <td>0</td>\n      <td>0</td>\n      <td>0</td>\n      <td>0</td>\n      <td>0</td>\n      <td>0</td>\n    </tr>\n    <tr>\n      <th>3</th>\n      <td>Donner Ski Ranch</td>\n      <td>8012</td>\n      <td>750</td>\n      <td>0</td>\n      <td>0</td>\n      <td>0</td>\n      <td>0</td>\n      <td>0</td>\n      <td>1</td>\n      <td>5</td>\n      <td>...</td>\n      <td>0</td>\n      <td>0</td>\n      <td>0</td>\n      <td>0</td>\n      <td>0</td>\n      <td>0</td>\n      <td>0</td>\n      <td>0</td>\n      <td>0</td>\n      <td>0</td>\n    </tr>\n    <tr>\n      <th>4</th>\n      <td>June Mountain</td>\n      <td>10090</td>\n      <td>2590</td>\n      <td>0</td>\n      <td>0</td>\n      <td>0</td>\n      <td>2</td>\n      <td>0</td>\n      <td>0</td>\n      <td>4</td>\n      <td>...</td>\n      <td>0</td>\n      <td>0</td>\n      <td>0</td>\n      <td>0</td>\n      <td>0</td>\n      <td>0</td>\n      <td>0</td>\n      <td>0</td>\n      <td>0</td>\n      <td>0</td>\n    </tr>\n  </tbody>\n</table>\n<p>5 rows × 60 columns</p>\n</div>"
     },
     "metadata": {},
     "execution_count": 5
    }
   ],
   "source": [
    "temp = skidata[['state']]\n",
    "skidata = pd.concat([skidata.drop(temp ,axis = 1),pd.get_dummies(temp)],axis = 1)\n",
    "skidata.head(5)"
   ]
  },
  {
   "cell_type": "markdown",
   "metadata": {
    "colab_type": "text",
    "id": "HnDVhE1-ZyGF"
   },
   "source": [
    "## Standardize the magnitude of numeric features"
   ]
  },
  {
   "cell_type": "markdown",
   "metadata": {
    "colab": {},
    "colab_type": "code",
    "id": "gW3D-WlDZyGG"
   },
   "source": [
    "**<font color='teal'> Using sklearn preprocessing standardize the scale of the features of the dataframe except the name of the resort which we done't need in the dataframe for modeling, so it can be droppped here as well. Also, we want to hold out our response variable(s) so we can have their true values available for model performance review. Let's set `AdultWeekend` to the y variable as our response for scaling and modeling. Later we will go back and consider the `AdultWeekday`, `dayOpenLastYear`, and `projectedDaysOpen`. For now leave them in the development dataframe. </font>**"
   ]
  },
  {
   "cell_type": "code",
   "execution_count": 6,
   "metadata": {
    "colab": {},
    "colab_type": "code",
    "id": "IZL-q-KtAYI6",
    "tags": []
   },
   "outputs": [
    {
     "output_type": "stream",
     "name": "stderr",
     "text": "C:\\ProgramData\\Anaconda3\\lib\\site-packages\\sklearn\\preprocessing\\data.py:645: DataConversionWarning: Data with input dtype uint8, int64, float64 were all converted to float64 by StandardScaler.\n  return self.partial_fit(X, y)\nipykernel_launcher:14: DataConversionWarning: Data with input dtype uint8, int64, float64 were all converted to float64 by StandardScaler.\n"
    }
   ],
   "source": [
    "# first we import the preprocessing package from the sklearn library\n",
    "from sklearn import preprocessing\n",
    "\n",
    "# Declare an explanatory variable, called X,and assign it the result of dropping 'Name' and 'AdultWeekend' from the df\n",
    "X = skidata.drop(['Name','AdultWeekend'], axis=1)\n",
    "\n",
    "# Declare a response variable, called y, and assign it the AdultWeekend column of the df \n",
    "y = skidata['AdultWeekend'] \n",
    "\n",
    "# Here we use the StandardScaler() method of the preprocessing package, and then call the fit() method with parameter X \n",
    "scaler = preprocessing.StandardScaler().fit(X)\n",
    "\n",
    "# Declare a variable called X_scaled, and assign it the result of calling the transform() method with parameter X \n",
    "X_scaled=scaler.transform(X) "
   ]
  },
  {
   "cell_type": "markdown",
   "metadata": {
    "colab_type": "text",
    "id": "GAT8h4_mZyGK"
   },
   "source": [
    "## Split into training and testing datasets"
   ]
  },
  {
   "cell_type": "markdown",
   "metadata": {
    "colab_type": "text",
    "id": "6rdS8EGeAnrW"
   },
   "source": [
    "**<font color='teal'> Using sklearn model selection import train_test_split, and create a 75/25 split with the y = `AdultWeekend`. We will start by using the adult weekend ticket price as our response variable for modeling.</font>**"
   ]
  },
  {
   "cell_type": "code",
   "execution_count": 7,
   "metadata": {
    "colab": {},
    "colab_type": "code",
    "id": "BSkPut0gguds"
   },
   "outputs": [],
   "source": [
    "# Import the train_test_split function from the sklearn.model_selection utility.  \n",
    "from sklearn.model_selection import train_test_split\n",
    "\n",
    "# Get the 1-dimensional flattened array of our response variable y by calling the ravel() function on y\n",
    "y = np.ravel(y)\n",
    "\n",
    "# Call the train_test_split() function with the first two parameters set to X_scaled and y \n",
    "# Declare four variables, X_train, X_test, y_train and y_test separated by commas \n",
    "X_train, X_test, y_train, y_test = train_test_split(X_scaled, y, test_size=0.25, random_state=2)"
   ]
  },
  {
   "cell_type": "markdown",
   "metadata": {
    "colab_type": "text",
    "id": "UayqbwkWAnra"
   },
   "source": [
    "Here we start the actual modeling work. First let's fit a multiple linear regression model to predict the `AdultWeekend` price."
   ]
  },
  {
   "cell_type": "markdown",
   "metadata": {
    "colab_type": "text",
    "id": "83fkLldXFCNd"
   },
   "source": [
    "# Guided Capstone Step 5. Modeling\n"
   ]
  },
  {
   "cell_type": "markdown",
   "metadata": {
    "colab_type": "text",
    "id": "JbZXsVevfr9M"
   },
   "source": [
    "This is the fifth step in the Data Science Method. In the previous steps you cleaned and prepared the datasets. Now it's time to get into the most exciting part: modeling! In this exercise, you'll build three different models and compare each model's performance. In the end, you'll choose the best model for demonstrating insights to Big Mountain management.\n",
    "\n",
    "\n",
    "\n",
    "### **The Data Science Method**  \n",
    "\n",
    "\n",
    "1.   Problem Identification \n",
    "\n",
    "2.   Data Wrangling \n",
    "  \n",
    "3.   Exploratory Data Analysis \n",
    " \n",
    "4.   Pre-processing and Training Data Development\n",
    "\n",
    "5.   **Modeling**\n",
    "  * Fit Models with Training Data Set\n",
    "  * Review Model Outcomes — Iterate over additional models as needed.\n",
    "  * Identify the Final Model\n",
    "\n",
    "6.   Documentation\n",
    "  * Review the Results\n",
    "  * Present and share your findings - storytelling\n",
    "  * Finalize Code \n",
    "  * Finalize Documentation"
   ]
  },
  {
   "cell_type": "markdown",
   "metadata": {
    "colab_type": "text",
    "id": "D_wfsP_-Anra"
   },
   "source": [
    "## Fit Models with a Training Dataset"
   ]
  },
  {
   "cell_type": "markdown",
   "metadata": {
    "colab_type": "text",
    "id": "CoI8S5SwAnrc"
   },
   "source": [
    "**<font color='teal'> Using sklearn, fit the model on your training dataset.</font>**"
   ]
  },
  {
   "cell_type": "markdown",
   "metadata": {
    "colab_type": "text",
    "id": "P_GFr8sRAnrd"
   },
   "source": [
    "#### Model 1"
   ]
  },
  {
   "cell_type": "code",
   "execution_count": 8,
   "metadata": {
    "colab": {},
    "colab_type": "code",
    "id": "fW6K7uOPAnre"
   },
   "outputs": [],
   "source": [
    "#all first model set\n",
    "from sklearn import linear_model\n",
    "from sklearn.metrics import explained_variance_score,mean_absolute_error\n",
    "lm = linear_model.LinearRegression()\n",
    "model = lm.fit(X_train,y_train)"
   ]
  },
  {
   "cell_type": "markdown",
   "metadata": {
    "colab_type": "text",
    "id": "1fHqz9-WAnrg"
   },
   "source": [
    "**<font color='teal'> Predict on the testing dataset and score the model performance with the y_test set and the y-pred values. The explained variance is a measure of the variation explained by the model. This is also known as the R-squared value. </font>**\n",
    "\n",
    "Hint: you will have to use the `predict()` method here as it's used in this [DSM article](https://medium.com/@aiden.dataminer/the-data-science-method-dsm-modeling-56b4233cad1b) about modeling. "
   ]
  },
  {
   "cell_type": "code",
   "execution_count": 9,
   "metadata": {
    "colab": {},
    "colab_type": "code",
    "id": "nIo01lFEAnrh"
   },
   "outputs": [
    {
     "output_type": "execute_result",
     "data": {
      "text/plain": "array([42.74297605, 46.41973387, 37.2156323 , 61.09746824, 79.65996824,\n       77.12774168, 94.68145262, 76.33672605, 58.54961668, 39.49737058,\n       58.78447996, 85.26153074, 61.77129637, 80.30840574, 66.62481199,\n       66.03631101, 50.41680418, 63.02129637, 51.86748777, 63.41973387,\n       36.17071043, 51.80547605, 81.37041746, 44.45196043, 35.67364012,\n       43.94292722, 59.72051512, 55.90801512, 58.53789793, 55.80547605,\n       65.78106199, 43.51201902, 35.38994871, 38.96367918, 66.49151121,\n       89.97539793, 63.37334715, 56.25567137, 38.24395262, 53.86114012,\n       77.55987058, 67.97442137])"
     },
     "metadata": {},
     "execution_count": 9
    }
   ],
   "source": [
    "# Make a variable called y_pred and assign it the result of calling predict() on our model variable with parameter X_test\n",
    "y_pred = model.predict(X_test)\n",
    "y_pred"
   ]
  },
  {
   "cell_type": "markdown",
   "metadata": {
    "colab_type": "text",
    "id": "N4YS0WE2Anrk"
   },
   "source": [
    "## Review Model Outcomes — Iterate over additional models as needed"
   ]
  },
  {
   "cell_type": "code",
   "execution_count": 10,
   "metadata": {
    "colab": {},
    "colab_type": "code",
    "id": "HSh9sGIYAnrk",
    "tags": []
   },
   "outputs": [
    {
     "output_type": "stream",
     "name": "stdout",
     "text": "0.5766705054050307\n"
    }
   ],
   "source": [
    "# You might want to use the explained_variance_score() and mean_absolute_error() metrics.\n",
    "# To do so, you will need to import them from sklearn.metrics. \n",
    "# You can plug y_test and y_pred into the functions to evaluate the model\n",
    "print(explained_variance_score(y_test,y_pred))"
   ]
  },
  {
   "cell_type": "code",
   "execution_count": 11,
   "metadata": {
    "colab": {},
    "colab_type": "code",
    "id": "ihzeo8tqAnro",
    "tags": []
   },
   "outputs": [
    {
     "output_type": "stream",
     "name": "stdout",
     "text": "7.728479278790509\n"
    }
   ],
   "source": [
    "print(mean_absolute_error(y_test,y_pred))"
   ]
  },
  {
   "cell_type": "markdown",
   "metadata": {
    "colab_type": "text",
    "id": "NWJcOuSdAnrr"
   },
   "source": [
    "**<font color='teal'> Print the intercept value from the linear model. </font>**\n",
    "\n",
    "Hint: our linear regression model `lm` has an attribute `intercept_` for the intercept"
   ]
  },
  {
   "cell_type": "code",
   "execution_count": 12,
   "metadata": {
    "colab": {},
    "colab_type": "code",
    "id": "3WzWejn6Anrt",
    "tags": []
   },
   "outputs": [
    {
     "output_type": "stream",
     "name": "stdout",
     "text": "56.70879636536738\n"
    }
   ],
   "source": [
    "print(lm.intercept_)"
   ]
  },
  {
   "cell_type": "markdown",
   "metadata": {
    "colab_type": "text",
    "id": "edajrenAAnrv"
   },
   "source": [
    "**<font color='teal'> The intercept is the mean `AdultWeekend` price for all the resorts given the other characteristics. The addition or subtraction of each of the coefficient values in the regression are numeric adjustments applied to the intercept to provide a particular observation's value for the resulting `AdultWeekend` value. Also, because we took the time to scale our x values in the training data, we can compare each of the coeeficients for the features to determine the feature importances. Print the coefficient values from the linear model and sort in descending order to identify the top ten most important features.</font>** \n",
    "\n",
    "\n",
    "Hint: make sure to review the absolute value of the coefficients, because the adjustment may be positive or negative, but what we are looking for is the magnitude of impact on our response variable."
   ]
  },
  {
   "cell_type": "code",
   "execution_count": 13,
   "metadata": {
    "colab": {},
    "colab_type": "code",
    "id": "FEKc_lmZAnrw"
   },
   "outputs": [
    {
     "output_type": "execute_result",
     "data": {
      "text/plain": "                       Coefficient\nfastSixes             1.176595e+13\nfastEight             1.093024e+13\ntotal_chairs          8.231385e+12\nsurface               4.702365e+12\ndouble                4.550634e+12\ntriple                3.883572e+12\ntrams                 3.625409e+12\nquad                  2.348321e+12\nfastQuads             1.867449e+12\nstate_New York        1.802302e+12\nstate_Michigan        1.622884e+12\nstate_New Hampshire   1.407922e+12\nstate_Pennsylvania    1.346697e+12\nstate_Wisconsin       1.346697e+12\nstate_California      1.212170e+12\nstate_Minnesota       1.212170e+12\nstate_Vermont         1.137441e+12\nstate_New Mexico      1.056352e+12\nstate_Idaho           1.056352e+12\nstate_Colorado        9.673028e+11\nstate_Connecticut     9.673028e+11\nstate_Maine           9.673028e+11\nstate_Wyoming         9.673028e+11\nstate_Massachusetts   8.678481e+11\nstate_Washington      8.678481e+11\nstate_Ohio            8.678481e+11\nstate_North Carolina  7.538805e+11\nstate_West Virginia   7.538805e+11\nstate_Iowa            7.538805e+11\nstate_Illinois        7.538805e+11\nstate_Oregon          7.538805e+11\nstate_Montana         7.538805e+11\nstate_Utah            7.538805e+11\nstate_Virginia        6.174146e+11\nstate_Missouri        6.174146e+11\nstate_Indiana         6.174146e+11\nstate_Tennessee       4.378990e+11\nstate_Nevada          4.378990e+11\nstate_New Jersey      4.378990e+11\nstate_Rhode Island    4.378990e+11\nstate_Maryland        4.378990e+11\nstate_Arizona         4.378990e+11\nstate_Alaska          4.378990e+11\nstate_South Dakota    4.378990e+11\nAdultWeekday          8.161987e+00\nRuns                  3.182861e+00\nvertical_drop         2.679096e+00\nsummit_elev           2.499846e+00\nprojectedDaysOpen     1.516602e+00\nclusters              1.318848e+00\nSnow Making_ac        1.175781e+00\nSkiableTerrain_ac     1.140503e+00\naverageSnowfall       8.120117e-01\nyearsOpen             6.435547e-01\nTerrainParks          5.195312e-01\ndaysOpenLastYear      4.363499e-01\nNightSkiing_ac        8.691406e-02\nLongestRun_mi         2.856445e-02",
      "text/html": "<div>\n<style scoped>\n    .dataframe tbody tr th:only-of-type {\n        vertical-align: middle;\n    }\n\n    .dataframe tbody tr th {\n        vertical-align: top;\n    }\n\n    .dataframe thead th {\n        text-align: right;\n    }\n</style>\n<table border=\"1\" class=\"dataframe\">\n  <thead>\n    <tr style=\"text-align: right;\">\n      <th></th>\n      <th>Coefficient</th>\n    </tr>\n  </thead>\n  <tbody>\n    <tr>\n      <th>fastSixes</th>\n      <td>1.176595e+13</td>\n    </tr>\n    <tr>\n      <th>fastEight</th>\n      <td>1.093024e+13</td>\n    </tr>\n    <tr>\n      <th>total_chairs</th>\n      <td>8.231385e+12</td>\n    </tr>\n    <tr>\n      <th>surface</th>\n      <td>4.702365e+12</td>\n    </tr>\n    <tr>\n      <th>double</th>\n      <td>4.550634e+12</td>\n    </tr>\n    <tr>\n      <th>triple</th>\n      <td>3.883572e+12</td>\n    </tr>\n    <tr>\n      <th>trams</th>\n      <td>3.625409e+12</td>\n    </tr>\n    <tr>\n      <th>quad</th>\n      <td>2.348321e+12</td>\n    </tr>\n    <tr>\n      <th>fastQuads</th>\n      <td>1.867449e+12</td>\n    </tr>\n    <tr>\n      <th>state_New York</th>\n      <td>1.802302e+12</td>\n    </tr>\n    <tr>\n      <th>state_Michigan</th>\n      <td>1.622884e+12</td>\n    </tr>\n    <tr>\n      <th>state_New Hampshire</th>\n      <td>1.407922e+12</td>\n    </tr>\n    <tr>\n      <th>state_Pennsylvania</th>\n      <td>1.346697e+12</td>\n    </tr>\n    <tr>\n      <th>state_Wisconsin</th>\n      <td>1.346697e+12</td>\n    </tr>\n    <tr>\n      <th>state_California</th>\n      <td>1.212170e+12</td>\n    </tr>\n    <tr>\n      <th>state_Minnesota</th>\n      <td>1.212170e+12</td>\n    </tr>\n    <tr>\n      <th>state_Vermont</th>\n      <td>1.137441e+12</td>\n    </tr>\n    <tr>\n      <th>state_New Mexico</th>\n      <td>1.056352e+12</td>\n    </tr>\n    <tr>\n      <th>state_Idaho</th>\n      <td>1.056352e+12</td>\n    </tr>\n    <tr>\n      <th>state_Colorado</th>\n      <td>9.673028e+11</td>\n    </tr>\n    <tr>\n      <th>state_Connecticut</th>\n      <td>9.673028e+11</td>\n    </tr>\n    <tr>\n      <th>state_Maine</th>\n      <td>9.673028e+11</td>\n    </tr>\n    <tr>\n      <th>state_Wyoming</th>\n      <td>9.673028e+11</td>\n    </tr>\n    <tr>\n      <th>state_Massachusetts</th>\n      <td>8.678481e+11</td>\n    </tr>\n    <tr>\n      <th>state_Washington</th>\n      <td>8.678481e+11</td>\n    </tr>\n    <tr>\n      <th>state_Ohio</th>\n      <td>8.678481e+11</td>\n    </tr>\n    <tr>\n      <th>state_North Carolina</th>\n      <td>7.538805e+11</td>\n    </tr>\n    <tr>\n      <th>state_West Virginia</th>\n      <td>7.538805e+11</td>\n    </tr>\n    <tr>\n      <th>state_Iowa</th>\n      <td>7.538805e+11</td>\n    </tr>\n    <tr>\n      <th>state_Illinois</th>\n      <td>7.538805e+11</td>\n    </tr>\n    <tr>\n      <th>state_Oregon</th>\n      <td>7.538805e+11</td>\n    </tr>\n    <tr>\n      <th>state_Montana</th>\n      <td>7.538805e+11</td>\n    </tr>\n    <tr>\n      <th>state_Utah</th>\n      <td>7.538805e+11</td>\n    </tr>\n    <tr>\n      <th>state_Virginia</th>\n      <td>6.174146e+11</td>\n    </tr>\n    <tr>\n      <th>state_Missouri</th>\n      <td>6.174146e+11</td>\n    </tr>\n    <tr>\n      <th>state_Indiana</th>\n      <td>6.174146e+11</td>\n    </tr>\n    <tr>\n      <th>state_Tennessee</th>\n      <td>4.378990e+11</td>\n    </tr>\n    <tr>\n      <th>state_Nevada</th>\n      <td>4.378990e+11</td>\n    </tr>\n    <tr>\n      <th>state_New Jersey</th>\n      <td>4.378990e+11</td>\n    </tr>\n    <tr>\n      <th>state_Rhode Island</th>\n      <td>4.378990e+11</td>\n    </tr>\n    <tr>\n      <th>state_Maryland</th>\n      <td>4.378990e+11</td>\n    </tr>\n    <tr>\n      <th>state_Arizona</th>\n      <td>4.378990e+11</td>\n    </tr>\n    <tr>\n      <th>state_Alaska</th>\n      <td>4.378990e+11</td>\n    </tr>\n    <tr>\n      <th>state_South Dakota</th>\n      <td>4.378990e+11</td>\n    </tr>\n    <tr>\n      <th>AdultWeekday</th>\n      <td>8.161987e+00</td>\n    </tr>\n    <tr>\n      <th>Runs</th>\n      <td>3.182861e+00</td>\n    </tr>\n    <tr>\n      <th>vertical_drop</th>\n      <td>2.679096e+00</td>\n    </tr>\n    <tr>\n      <th>summit_elev</th>\n      <td>2.499846e+00</td>\n    </tr>\n    <tr>\n      <th>projectedDaysOpen</th>\n      <td>1.516602e+00</td>\n    </tr>\n    <tr>\n      <th>clusters</th>\n      <td>1.318848e+00</td>\n    </tr>\n    <tr>\n      <th>Snow Making_ac</th>\n      <td>1.175781e+00</td>\n    </tr>\n    <tr>\n      <th>SkiableTerrain_ac</th>\n      <td>1.140503e+00</td>\n    </tr>\n    <tr>\n      <th>averageSnowfall</th>\n      <td>8.120117e-01</td>\n    </tr>\n    <tr>\n      <th>yearsOpen</th>\n      <td>6.435547e-01</td>\n    </tr>\n    <tr>\n      <th>TerrainParks</th>\n      <td>5.195312e-01</td>\n    </tr>\n    <tr>\n      <th>daysOpenLastYear</th>\n      <td>4.363499e-01</td>\n    </tr>\n    <tr>\n      <th>NightSkiing_ac</th>\n      <td>8.691406e-02</td>\n    </tr>\n    <tr>\n      <th>LongestRun_mi</th>\n      <td>2.856445e-02</td>\n    </tr>\n  </tbody>\n</table>\n</div>"
     },
     "metadata": {},
     "execution_count": 13
    }
   ],
   "source": [
    "# You might want to make a pandas DataFrame displaying the coefficients for each state like so: \n",
    "coef = pd.DataFrame(abs(lm.coef_), X.columns, columns=['Coefficient'])\n",
    "coef.sort_values(by='Coefficient', ascending=False)\n"
   ]
  },
  {
   "cell_type": "markdown",
   "metadata": {
    "colab_type": "text",
    "id": "BpdALMoAAnry"
   },
   "source": [
    "**<font color='teal'>You should see that the top ten important features are different states. However, the state is not something the managers at the Big Mountain Resort can do anything about. Given that we care more about actionable traits associated with ticket pricing, rebuild the model without the state features and compare the results. </font>**\n",
    "\n",
    "Hint: Try to construct another model using exactly the steps we followed above. "
   ]
  },
  {
   "cell_type": "markdown",
   "metadata": {
    "colab_type": "text",
    "id": "-mHYA1BzAnrz"
   },
   "source": [
    "#### Model 2"
   ]
  },
  {
   "cell_type": "code",
   "execution_count": 14,
   "metadata": {
    "colab": {},
    "colab_type": "code",
    "id": "Pz1YXAdiAnr0"
   },
   "outputs": [
    {
     "output_type": "execute_result",
     "data": {
      "text/plain": "                            Name  summit_elev  vertical_drop  trams  \\\n0               Hilltop Ski Area         2090            294      0   \n1            Sunrise Park Resort        11100           1800      0   \n2  Yosemite Ski & Snowboard Area         7800            600      0   \n3               Donner Ski Ranch         8012            750      0   \n4                  June Mountain        10090           2590      0   \n\n   fastEight  fastSixes  fastQuads  quad  triple  double  ...  \\\n0          0          0          0     0       1       0  ...   \n1          0          0          1     2       3       1  ...   \n2          0          0          0     0       1       3  ...   \n3          0          0          0     0       1       5  ...   \n4          0          0          2     0       0       4  ...   \n\n   SkiableTerrain_ac  Snow Making_ac  daysOpenLastYear  yearsOpen  \\\n0               30.0       30.000000               150         36   \n1              800.0       80.000000               115         49   \n2               88.0      174.873239               110         84   \n3              505.0       60.000000               163         82   \n4             1500.0      174.873239               115         58   \n\n   averageSnowfall  AdultWeekday  AdultWeekend  projectedDaysOpen  \\\n0               69     30.000000      34.00000                152   \n1              250     74.000000      78.00000                104   \n2              300     47.000000      47.00000                107   \n3              400     75.000000      75.00000                170   \n4              250     57.916957      64.16681                128   \n\n   NightSkiing_ac  clusters  \n0              30         0  \n1              80         1  \n2               0         1  \n3               0         1  \n4               0         1  \n\n[5 rows x 25 columns]",
      "text/html": "<div>\n<style scoped>\n    .dataframe tbody tr th:only-of-type {\n        vertical-align: middle;\n    }\n\n    .dataframe tbody tr th {\n        vertical-align: top;\n    }\n\n    .dataframe thead th {\n        text-align: right;\n    }\n</style>\n<table border=\"1\" class=\"dataframe\">\n  <thead>\n    <tr style=\"text-align: right;\">\n      <th></th>\n      <th>Name</th>\n      <th>summit_elev</th>\n      <th>vertical_drop</th>\n      <th>trams</th>\n      <th>fastEight</th>\n      <th>fastSixes</th>\n      <th>fastQuads</th>\n      <th>quad</th>\n      <th>triple</th>\n      <th>double</th>\n      <th>...</th>\n      <th>SkiableTerrain_ac</th>\n      <th>Snow Making_ac</th>\n      <th>daysOpenLastYear</th>\n      <th>yearsOpen</th>\n      <th>averageSnowfall</th>\n      <th>AdultWeekday</th>\n      <th>AdultWeekend</th>\n      <th>projectedDaysOpen</th>\n      <th>NightSkiing_ac</th>\n      <th>clusters</th>\n    </tr>\n  </thead>\n  <tbody>\n    <tr>\n      <th>0</th>\n      <td>Hilltop Ski Area</td>\n      <td>2090</td>\n      <td>294</td>\n      <td>0</td>\n      <td>0</td>\n      <td>0</td>\n      <td>0</td>\n      <td>0</td>\n      <td>1</td>\n      <td>0</td>\n      <td>...</td>\n      <td>30.0</td>\n      <td>30.000000</td>\n      <td>150</td>\n      <td>36</td>\n      <td>69</td>\n      <td>30.000000</td>\n      <td>34.00000</td>\n      <td>152</td>\n      <td>30</td>\n      <td>0</td>\n    </tr>\n    <tr>\n      <th>1</th>\n      <td>Sunrise Park Resort</td>\n      <td>11100</td>\n      <td>1800</td>\n      <td>0</td>\n      <td>0</td>\n      <td>0</td>\n      <td>1</td>\n      <td>2</td>\n      <td>3</td>\n      <td>1</td>\n      <td>...</td>\n      <td>800.0</td>\n      <td>80.000000</td>\n      <td>115</td>\n      <td>49</td>\n      <td>250</td>\n      <td>74.000000</td>\n      <td>78.00000</td>\n      <td>104</td>\n      <td>80</td>\n      <td>1</td>\n    </tr>\n    <tr>\n      <th>2</th>\n      <td>Yosemite Ski &amp; Snowboard Area</td>\n      <td>7800</td>\n      <td>600</td>\n      <td>0</td>\n      <td>0</td>\n      <td>0</td>\n      <td>0</td>\n      <td>0</td>\n      <td>1</td>\n      <td>3</td>\n      <td>...</td>\n      <td>88.0</td>\n      <td>174.873239</td>\n      <td>110</td>\n      <td>84</td>\n      <td>300</td>\n      <td>47.000000</td>\n      <td>47.00000</td>\n      <td>107</td>\n      <td>0</td>\n      <td>1</td>\n    </tr>\n    <tr>\n      <th>3</th>\n      <td>Donner Ski Ranch</td>\n      <td>8012</td>\n      <td>750</td>\n      <td>0</td>\n      <td>0</td>\n      <td>0</td>\n      <td>0</td>\n      <td>0</td>\n      <td>1</td>\n      <td>5</td>\n      <td>...</td>\n      <td>505.0</td>\n      <td>60.000000</td>\n      <td>163</td>\n      <td>82</td>\n      <td>400</td>\n      <td>75.000000</td>\n      <td>75.00000</td>\n      <td>170</td>\n      <td>0</td>\n      <td>1</td>\n    </tr>\n    <tr>\n      <th>4</th>\n      <td>June Mountain</td>\n      <td>10090</td>\n      <td>2590</td>\n      <td>0</td>\n      <td>0</td>\n      <td>0</td>\n      <td>2</td>\n      <td>0</td>\n      <td>0</td>\n      <td>4</td>\n      <td>...</td>\n      <td>1500.0</td>\n      <td>174.873239</td>\n      <td>115</td>\n      <td>58</td>\n      <td>250</td>\n      <td>57.916957</td>\n      <td>64.16681</td>\n      <td>128</td>\n      <td>0</td>\n      <td>1</td>\n    </tr>\n  </tbody>\n</table>\n<p>5 rows × 25 columns</p>\n</div>"
     },
     "metadata": {},
     "execution_count": 14
    }
   ],
   "source": [
    "#dropping the state column from the dataframe\n",
    "skidata2.drop(['state'],axis = 1, inplace = True)\n",
    "skidata2.head(5)"
   ]
  },
  {
   "cell_type": "code",
   "execution_count": 15,
   "metadata": {
    "colab": {},
    "colab_type": "code",
    "id": "nM1EGf16Anr2",
    "tags": []
   },
   "outputs": [
    {
     "output_type": "stream",
     "name": "stderr",
     "text": "C:\\ProgramData\\Anaconda3\\lib\\site-packages\\sklearn\\preprocessing\\data.py:645: DataConversionWarning: Data with input dtype int64, float64 were all converted to float64 by StandardScaler.\n  return self.partial_fit(X, y)\nipykernel_launcher:4: DataConversionWarning: Data with input dtype int64, float64 were all converted to float64 by StandardScaler.\n"
    }
   ],
   "source": [
    "#Applying all the above steps for the second model\n",
    "X = skidata2.drop(['Name','AdultWeekend'], axis=1) \n",
    "scaler = preprocessing.StandardScaler().fit(X)\n",
    "X_scaled=scaler.transform(X) "
   ]
  },
  {
   "cell_type": "code",
   "execution_count": 16,
   "metadata": {},
   "outputs": [],
   "source": [
    "X_train, X_test, y_train, y_test = train_test_split(X_scaled, y, test_size=0.25, random_state=2)"
   ]
  },
  {
   "cell_type": "code",
   "execution_count": 17,
   "metadata": {},
   "outputs": [
    {
     "output_type": "execute_result",
     "data": {
      "text/plain": "array([30.8188221 , 55.18579099, 43.03122588, 60.67352141, 69.20521396,\n       73.03935275, 89.1415438 , 66.68847571, 61.40096955, 45.71109994,\n       46.95426745, 95.47731822, 59.87490118, 67.67685523, 59.44390797,\n       50.58274574, 36.99271491, 76.50337044, 55.93098937, 50.65983955,\n       47.83506776, 47.89909101, 85.30197627, 49.72275391, 47.03419106,\n       49.24378474, 62.18100997, 55.96653749, 62.04605094, 58.7352629 ,\n       55.70183422, 48.7675434 , 33.6273521 , 40.34379125, 65.68302502,\n       94.13425541, 68.25733797, 57.20804456, 48.16327615, 60.457605  ,\n       66.21941283, 65.95963054])"
     },
     "metadata": {},
     "execution_count": 17
    }
   ],
   "source": [
    "lm = linear_model.LinearRegression()\n",
    "model = lm.fit(X_train,y_train)\n",
    "y_pred = model.predict(X_test)\n",
    "y_pred"
   ]
  },
  {
   "cell_type": "code",
   "execution_count": 18,
   "metadata": {
    "tags": []
   },
   "outputs": [
    {
     "output_type": "stream",
     "name": "stdout",
     "text": "0.6924371542491499\n6.950808111102586\n56.61287341920584\n"
    },
    {
     "output_type": "execute_result",
     "data": {
      "text/plain": "                    Coefficient\nAdultWeekday       1.132167e+01\nsummit_elev        4.030257e+00\nclusters           3.676072e+00\naverageSnowfall    2.949423e+00\nRuns               1.675940e+00\ndouble             1.625960e+00\nquad               1.427038e+00\nvertical_drop      1.378469e+00\nfastQuads          1.219952e+00\ndaysOpenLastYear   1.074517e+00\nsurface            1.016072e+00\nprojectedDaysOpen  9.354593e-01\ntriple             9.251980e-01\ntotal_chairs       8.852978e-01\nLongestRun_mi      7.831650e-01\nTerrainParks       6.439217e-01\nyearsOpen          6.324593e-01\nSkiableTerrain_ac  4.918277e-01\nNightSkiing_ac     3.524263e-01\nSnow Making_ac     2.268005e-01\nfastEight          1.776357e-15\nfastSixes          1.554312e-15\ntrams              1.332268e-15",
      "text/html": "<div>\n<style scoped>\n    .dataframe tbody tr th:only-of-type {\n        vertical-align: middle;\n    }\n\n    .dataframe tbody tr th {\n        vertical-align: top;\n    }\n\n    .dataframe thead th {\n        text-align: right;\n    }\n</style>\n<table border=\"1\" class=\"dataframe\">\n  <thead>\n    <tr style=\"text-align: right;\">\n      <th></th>\n      <th>Coefficient</th>\n    </tr>\n  </thead>\n  <tbody>\n    <tr>\n      <th>AdultWeekday</th>\n      <td>1.132167e+01</td>\n    </tr>\n    <tr>\n      <th>summit_elev</th>\n      <td>4.030257e+00</td>\n    </tr>\n    <tr>\n      <th>clusters</th>\n      <td>3.676072e+00</td>\n    </tr>\n    <tr>\n      <th>averageSnowfall</th>\n      <td>2.949423e+00</td>\n    </tr>\n    <tr>\n      <th>Runs</th>\n      <td>1.675940e+00</td>\n    </tr>\n    <tr>\n      <th>double</th>\n      <td>1.625960e+00</td>\n    </tr>\n    <tr>\n      <th>quad</th>\n      <td>1.427038e+00</td>\n    </tr>\n    <tr>\n      <th>vertical_drop</th>\n      <td>1.378469e+00</td>\n    </tr>\n    <tr>\n      <th>fastQuads</th>\n      <td>1.219952e+00</td>\n    </tr>\n    <tr>\n      <th>daysOpenLastYear</th>\n      <td>1.074517e+00</td>\n    </tr>\n    <tr>\n      <th>surface</th>\n      <td>1.016072e+00</td>\n    </tr>\n    <tr>\n      <th>projectedDaysOpen</th>\n      <td>9.354593e-01</td>\n    </tr>\n    <tr>\n      <th>triple</th>\n      <td>9.251980e-01</td>\n    </tr>\n    <tr>\n      <th>total_chairs</th>\n      <td>8.852978e-01</td>\n    </tr>\n    <tr>\n      <th>LongestRun_mi</th>\n      <td>7.831650e-01</td>\n    </tr>\n    <tr>\n      <th>TerrainParks</th>\n      <td>6.439217e-01</td>\n    </tr>\n    <tr>\n      <th>yearsOpen</th>\n      <td>6.324593e-01</td>\n    </tr>\n    <tr>\n      <th>SkiableTerrain_ac</th>\n      <td>4.918277e-01</td>\n    </tr>\n    <tr>\n      <th>NightSkiing_ac</th>\n      <td>3.524263e-01</td>\n    </tr>\n    <tr>\n      <th>Snow Making_ac</th>\n      <td>2.268005e-01</td>\n    </tr>\n    <tr>\n      <th>fastEight</th>\n      <td>1.776357e-15</td>\n    </tr>\n    <tr>\n      <th>fastSixes</th>\n      <td>1.554312e-15</td>\n    </tr>\n    <tr>\n      <th>trams</th>\n      <td>1.332268e-15</td>\n    </tr>\n  </tbody>\n</table>\n</div>"
     },
     "metadata": {},
     "execution_count": 18
    }
   ],
   "source": [
    "print(explained_variance_score(y_test,y_pred))\n",
    "print(mean_absolute_error(y_test,y_pred))\n",
    "print(lm.intercept_)\n",
    "\n",
    "coef = pd.DataFrame(abs(lm.coef_), X.columns, columns=['Coefficient'])\n",
    "coef.sort_values(by='Coefficient', ascending=False)"
   ]
  },
  {
   "cell_type": "markdown",
   "metadata": {
    "colab_type": "text",
    "id": "JWjQLr3LAnr6"
   },
   "source": [
    "**<font color='teal'> When reviewing our new model coefficients, we see `summit_elev` is now in the number two spot. This is also difficult to change from a management prespective and highly correlated with `base_elev` and `vertical_drop`.  This time, rebuild the model without the state features and without the `summit_elev` and without `base_elev`and compare the results. </font>**"
   ]
  },
  {
   "cell_type": "markdown",
   "metadata": {
    "colab_type": "text",
    "id": "RXqvcn93Anr7"
   },
   "source": [
    "#### Model 3"
   ]
  },
  {
   "cell_type": "code",
   "execution_count": 19,
   "metadata": {
    "colab": {},
    "colab_type": "code",
    "id": "6eugnDNNAnr8"
   },
   "outputs": [
    {
     "output_type": "execute_result",
     "data": {
      "text/plain": "                            Name  vertical_drop  trams  fastEight  fastSixes  \\\n0               Hilltop Ski Area            294      0          0          0   \n1            Sunrise Park Resort           1800      0          0          0   \n2  Yosemite Ski & Snowboard Area            600      0          0          0   \n3               Donner Ski Ranch            750      0          0          0   \n4                  June Mountain           2590      0          0          0   \n\n   fastQuads  quad  triple  double  surface  ...  SkiableTerrain_ac  \\\n0          0     0       1       0        2  ...               30.0   \n1          1     2       3       1        0  ...              800.0   \n2          0     0       1       3        1  ...               88.0   \n3          0     0       1       5        2  ...              505.0   \n4          2     0       0       4        1  ...             1500.0   \n\n   Snow Making_ac  daysOpenLastYear  yearsOpen  averageSnowfall  AdultWeekday  \\\n0       30.000000               150         36               69     30.000000   \n1       80.000000               115         49              250     74.000000   \n2      174.873239               110         84              300     47.000000   \n3       60.000000               163         82              400     75.000000   \n4      174.873239               115         58              250     57.916957   \n\n   AdultWeekend  projectedDaysOpen  NightSkiing_ac  clusters  \n0      34.00000                152              30         0  \n1      78.00000                104              80         1  \n2      47.00000                107               0         1  \n3      75.00000                170               0         1  \n4      64.16681                128               0         1  \n\n[5 rows x 24 columns]",
      "text/html": "<div>\n<style scoped>\n    .dataframe tbody tr th:only-of-type {\n        vertical-align: middle;\n    }\n\n    .dataframe tbody tr th {\n        vertical-align: top;\n    }\n\n    .dataframe thead th {\n        text-align: right;\n    }\n</style>\n<table border=\"1\" class=\"dataframe\">\n  <thead>\n    <tr style=\"text-align: right;\">\n      <th></th>\n      <th>Name</th>\n      <th>vertical_drop</th>\n      <th>trams</th>\n      <th>fastEight</th>\n      <th>fastSixes</th>\n      <th>fastQuads</th>\n      <th>quad</th>\n      <th>triple</th>\n      <th>double</th>\n      <th>surface</th>\n      <th>...</th>\n      <th>SkiableTerrain_ac</th>\n      <th>Snow Making_ac</th>\n      <th>daysOpenLastYear</th>\n      <th>yearsOpen</th>\n      <th>averageSnowfall</th>\n      <th>AdultWeekday</th>\n      <th>AdultWeekend</th>\n      <th>projectedDaysOpen</th>\n      <th>NightSkiing_ac</th>\n      <th>clusters</th>\n    </tr>\n  </thead>\n  <tbody>\n    <tr>\n      <th>0</th>\n      <td>Hilltop Ski Area</td>\n      <td>294</td>\n      <td>0</td>\n      <td>0</td>\n      <td>0</td>\n      <td>0</td>\n      <td>0</td>\n      <td>1</td>\n      <td>0</td>\n      <td>2</td>\n      <td>...</td>\n      <td>30.0</td>\n      <td>30.000000</td>\n      <td>150</td>\n      <td>36</td>\n      <td>69</td>\n      <td>30.000000</td>\n      <td>34.00000</td>\n      <td>152</td>\n      <td>30</td>\n      <td>0</td>\n    </tr>\n    <tr>\n      <th>1</th>\n      <td>Sunrise Park Resort</td>\n      <td>1800</td>\n      <td>0</td>\n      <td>0</td>\n      <td>0</td>\n      <td>1</td>\n      <td>2</td>\n      <td>3</td>\n      <td>1</td>\n      <td>0</td>\n      <td>...</td>\n      <td>800.0</td>\n      <td>80.000000</td>\n      <td>115</td>\n      <td>49</td>\n      <td>250</td>\n      <td>74.000000</td>\n      <td>78.00000</td>\n      <td>104</td>\n      <td>80</td>\n      <td>1</td>\n    </tr>\n    <tr>\n      <th>2</th>\n      <td>Yosemite Ski &amp; Snowboard Area</td>\n      <td>600</td>\n      <td>0</td>\n      <td>0</td>\n      <td>0</td>\n      <td>0</td>\n      <td>0</td>\n      <td>1</td>\n      <td>3</td>\n      <td>1</td>\n      <td>...</td>\n      <td>88.0</td>\n      <td>174.873239</td>\n      <td>110</td>\n      <td>84</td>\n      <td>300</td>\n      <td>47.000000</td>\n      <td>47.00000</td>\n      <td>107</td>\n      <td>0</td>\n      <td>1</td>\n    </tr>\n    <tr>\n      <th>3</th>\n      <td>Donner Ski Ranch</td>\n      <td>750</td>\n      <td>0</td>\n      <td>0</td>\n      <td>0</td>\n      <td>0</td>\n      <td>0</td>\n      <td>1</td>\n      <td>5</td>\n      <td>2</td>\n      <td>...</td>\n      <td>505.0</td>\n      <td>60.000000</td>\n      <td>163</td>\n      <td>82</td>\n      <td>400</td>\n      <td>75.000000</td>\n      <td>75.00000</td>\n      <td>170</td>\n      <td>0</td>\n      <td>1</td>\n    </tr>\n    <tr>\n      <th>4</th>\n      <td>June Mountain</td>\n      <td>2590</td>\n      <td>0</td>\n      <td>0</td>\n      <td>0</td>\n      <td>2</td>\n      <td>0</td>\n      <td>0</td>\n      <td>4</td>\n      <td>1</td>\n      <td>...</td>\n      <td>1500.0</td>\n      <td>174.873239</td>\n      <td>115</td>\n      <td>58</td>\n      <td>250</td>\n      <td>57.916957</td>\n      <td>64.16681</td>\n      <td>128</td>\n      <td>0</td>\n      <td>1</td>\n    </tr>\n  </tbody>\n</table>\n<p>5 rows × 24 columns</p>\n</div>"
     },
     "metadata": {},
     "execution_count": 19
    }
   ],
   "source": [
    "#dropping the summit_elev column from the dataframe\n",
    "skidata2.drop(['summit_elev'],axis = 1, inplace = True)\n",
    "skidata2.head(5)"
   ]
  },
  {
   "cell_type": "code",
   "execution_count": 20,
   "metadata": {
    "colab": {},
    "colab_type": "code",
    "id": "pq0pW7G9Anr_",
    "tags": []
   },
   "outputs": [
    {
     "output_type": "stream",
     "name": "stderr",
     "text": "C:\\ProgramData\\Anaconda3\\lib\\site-packages\\sklearn\\preprocessing\\data.py:645: DataConversionWarning: Data with input dtype int64, float64 were all converted to float64 by StandardScaler.\n  return self.partial_fit(X, y)\nipykernel_launcher:4: DataConversionWarning: Data with input dtype int64, float64 were all converted to float64 by StandardScaler.\n"
    }
   ],
   "source": [
    "#Applying all the above steps for the third model\n",
    "X = skidata2.drop(['Name','AdultWeekend'], axis=1) \n",
    "scaler = preprocessing.StandardScaler().fit(X)\n",
    "X_scaled=scaler.transform(X)"
   ]
  },
  {
   "cell_type": "code",
   "execution_count": 21,
   "metadata": {
    "colab": {},
    "colab_type": "code",
    "id": "reXlf0HAAnsG"
   },
   "outputs": [],
   "source": [
    "X_train, X_test, y_train, y_test = train_test_split(X_scaled, y, test_size=0.25, random_state=2)"
   ]
  },
  {
   "cell_type": "code",
   "execution_count": 22,
   "metadata": {},
   "outputs": [
    {
     "output_type": "execute_result",
     "data": {
      "text/plain": "array([31.86690482, 54.23558067, 43.75184622, 57.80102604, 75.08800754,\n       74.27086995, 97.48259213, 63.49248258, 62.50370903, 45.94721075,\n       50.06810814, 95.07631823, 57.89957825, 66.45518005, 58.92003231,\n       56.4251143 , 38.23846468, 75.24094386, 60.90760838, 48.52177424,\n       47.29865867, 46.21018366, 81.85939557, 49.00495744, 49.49088499,\n       49.36603351, 62.00654363, 56.10088282, 61.42882359, 59.1819592 ,\n       56.91170202, 49.91676204, 32.006454  , 40.07106531, 60.09626909,\n       91.42964393, 71.17355514, 58.83725785, 51.20670279, 59.19387299,\n       69.42842379, 58.41943403])"
     },
     "metadata": {},
     "execution_count": 22
    }
   ],
   "source": [
    "lm = linear_model.LinearRegression()\n",
    "model = lm.fit(X_train,y_train)\n",
    "y_pred = model.predict(X_test)\n",
    "y_pred"
   ]
  },
  {
   "cell_type": "code",
   "execution_count": 23,
   "metadata": {
    "tags": []
   },
   "outputs": [
    {
     "output_type": "stream",
     "name": "stdout",
     "text": "0.705242736148673\n6.79935782545422\n56.668867775890384\n"
    },
    {
     "output_type": "execute_result",
     "data": {
      "text/plain": "                    Coefficient\nAdultWeekday       1.100939e+01\naverageSnowfall    3.900911e+00\nclusters           2.973883e+00\ndouble             1.856627e+00\nRuns               1.264505e+00\ntotal_chairs       1.218139e+00\nvertical_drop      1.142791e+00\nquad               1.114080e+00\nSkiableTerrain_ac  9.608210e-01\nLongestRun_mi      9.446277e-01\ntriple             8.473876e-01\nyearsOpen          7.750767e-01\nsurface            7.323726e-01\nSnow Making_ac     6.761442e-01\nNightSkiing_ac     5.005556e-01\nfastQuads          4.739527e-01\nTerrainParks       4.694711e-01\ndaysOpenLastYear   3.180113e-01\nprojectedDaysOpen  2.148549e-01\nfastSixes          1.776357e-15\ntrams              8.881784e-16\nfastEight          8.881784e-16",
      "text/html": "<div>\n<style scoped>\n    .dataframe tbody tr th:only-of-type {\n        vertical-align: middle;\n    }\n\n    .dataframe tbody tr th {\n        vertical-align: top;\n    }\n\n    .dataframe thead th {\n        text-align: right;\n    }\n</style>\n<table border=\"1\" class=\"dataframe\">\n  <thead>\n    <tr style=\"text-align: right;\">\n      <th></th>\n      <th>Coefficient</th>\n    </tr>\n  </thead>\n  <tbody>\n    <tr>\n      <th>AdultWeekday</th>\n      <td>1.100939e+01</td>\n    </tr>\n    <tr>\n      <th>averageSnowfall</th>\n      <td>3.900911e+00</td>\n    </tr>\n    <tr>\n      <th>clusters</th>\n      <td>2.973883e+00</td>\n    </tr>\n    <tr>\n      <th>double</th>\n      <td>1.856627e+00</td>\n    </tr>\n    <tr>\n      <th>Runs</th>\n      <td>1.264505e+00</td>\n    </tr>\n    <tr>\n      <th>total_chairs</th>\n      <td>1.218139e+00</td>\n    </tr>\n    <tr>\n      <th>vertical_drop</th>\n      <td>1.142791e+00</td>\n    </tr>\n    <tr>\n      <th>quad</th>\n      <td>1.114080e+00</td>\n    </tr>\n    <tr>\n      <th>SkiableTerrain_ac</th>\n      <td>9.608210e-01</td>\n    </tr>\n    <tr>\n      <th>LongestRun_mi</th>\n      <td>9.446277e-01</td>\n    </tr>\n    <tr>\n      <th>triple</th>\n      <td>8.473876e-01</td>\n    </tr>\n    <tr>\n      <th>yearsOpen</th>\n      <td>7.750767e-01</td>\n    </tr>\n    <tr>\n      <th>surface</th>\n      <td>7.323726e-01</td>\n    </tr>\n    <tr>\n      <th>Snow Making_ac</th>\n      <td>6.761442e-01</td>\n    </tr>\n    <tr>\n      <th>NightSkiing_ac</th>\n      <td>5.005556e-01</td>\n    </tr>\n    <tr>\n      <th>fastQuads</th>\n      <td>4.739527e-01</td>\n    </tr>\n    <tr>\n      <th>TerrainParks</th>\n      <td>4.694711e-01</td>\n    </tr>\n    <tr>\n      <th>daysOpenLastYear</th>\n      <td>3.180113e-01</td>\n    </tr>\n    <tr>\n      <th>projectedDaysOpen</th>\n      <td>2.148549e-01</td>\n    </tr>\n    <tr>\n      <th>fastSixes</th>\n      <td>1.776357e-15</td>\n    </tr>\n    <tr>\n      <th>trams</th>\n      <td>8.881784e-16</td>\n    </tr>\n    <tr>\n      <th>fastEight</th>\n      <td>8.881784e-16</td>\n    </tr>\n  </tbody>\n</table>\n</div>"
     },
     "metadata": {},
     "execution_count": 23
    }
   ],
   "source": [
    "print(explained_variance_score(y_test,y_pred))\n",
    "print(mean_absolute_error(y_test,y_pred))\n",
    "print(lm.intercept_)\n",
    "\n",
    "coef = pd.DataFrame(abs(lm.coef_), X.columns, columns=['Coefficient'])\n",
    "coef.sort_values(by='Coefficient', ascending=False)"
   ]
  },
  {
   "cell_type": "markdown",
   "metadata": {
    "colab_type": "text",
    "id": "MJvQMns6AnsI"
   },
   "source": [
    "## Identify the Final Model"
   ]
  },
  {
   "cell_type": "markdown",
   "metadata": {
    "colab_type": "text",
    "id": "LD7-3iLcAnsK"
   },
   "source": [
    "**<font color='teal'> Review the model performances in the table below and choose the best model for proving insights to Big Mountain management about what features are driving ski resort lift ticket prices. Type your choice in the final markdown cell — you will discuss this selection more in the next step of the guided casptone. </font>**"
   ]
  },
  {
   "cell_type": "markdown",
   "metadata": {
    "colab_type": "text",
    "id": "La5S9fRPAnsK"
   },
   "source": [
    "| Model | Explained Variance| Mean Absolute Error|Features Dropped|\n",
    "| --- | --- | --- | --- |\n",
    "| Model 1. | 0. |  |-|\n",
    "| Model 2. | 0.| |'state'|\n",
    "| Model 3. | 0. | |'state','summit_elev','base_elev'|"
   ]
  },
  {
   "cell_type": "markdown",
   "metadata": {
    "colab_type": "text",
    "id": "T2c-zn7TAnsL"
   },
   "source": [
    "Model Selection: Model 3.0"
   ]
  },
  {
   "cell_type": "code",
   "execution_count": null,
   "metadata": {
    "colab": {},
    "colab_type": "code",
    "id": "CgC0eMBrAnsM"
   },
   "outputs": [],
   "source": []
  }
 ],
 "metadata": {
  "colab": {
   "collapsed_sections": [
    "RtEspslPZyGY",
    "s0DokMkAZyGc",
    "2iuitnKcZyHS",
    "iAWQxougZyHW",
    "ThMTimlBZyHZ",
    "QwZ-LkjXZyHt",
    "srtXEA3N4-Y9",
    "ChVreJupZyIA",
    "zDgSSsq1ZyID",
    "I3GYKWfi5Llg",
    "pmMvrhbI-viE",
    "ZXDPkW3UZyIX",
    "Dnc_vHQLZyId",
    "daJxuJ-dZyIg",
    "mAQ-oHiPZyIn",
    "hnGOsp3mZyIp"
   ],
   "name": "GuidedCapstoneStep5.ipynb",
   "provenance": []
  },
  "kernelspec": {
   "display_name": "Python 3",
   "language": "python",
   "name": "python3"
  },
  "language_info": {
   "codemirror_mode": {
    "name": "ipython",
    "version": 3
   },
   "file_extension": ".py",
   "mimetype": "text/x-python",
   "name": "python",
   "nbconvert_exporter": "python",
   "pygments_lexer": "ipython3",
   "version": "3.7.3"
  },
  "toc": {
   "base_numbering": "0",
   "nav_menu": {},
   "number_sections": true,
   "sideBar": true,
   "skip_h1_title": false,
   "title_cell": "Table of Contents",
   "title_sidebar": "Contents",
   "toc_cell": true,
   "toc_position": {
    "height": "calc(100% - 180px)",
    "left": "10px",
    "top": "150px",
    "width": "288px"
   },
   "toc_section_display": true,
   "toc_window_display": true
  }
 },
 "nbformat": 4,
 "nbformat_minor": 1
}